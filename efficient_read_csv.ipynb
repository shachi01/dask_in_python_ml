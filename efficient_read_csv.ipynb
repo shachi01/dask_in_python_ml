{
 "cells": [
  {
   "cell_type": "markdown",
   "metadata": {
    "colab_type": "text",
    "id": "iyZP5hyA6sNH"
   },
   "source": [
    "# Optimized ways to Read Large CSVs in Python\n",
    "\n",
    "### Author: Shachi Kaul\n",
    "### Motive: For handling large CSVs, problems such as crashing of kernel and Out of Memory error."
   ]
  },
  {
   "cell_type": "markdown",
   "metadata": {},
   "source": [
    "# Milestones\n",
    "- Import Libraries\n",
    "- Prepare huge-sized dataframe\n",
    "- How quick your import option is?\n",
    "    - Size of data to be imported\n",
    "    - pandas.read_csv()\n",
    "    - pandas.read_sv(chunksize)\n",
    "    - dask.dataframe.read_csv()"
   ]
  },
  {
   "cell_type": "code",
   "execution_count": 1,
   "metadata": {
    "colab": {},
    "colab_type": "code",
    "id": "ynqQeypTS3zy"
   },
   "outputs": [
    {
     "name": "stderr",
     "output_type": "stream",
     "text": [
      "D:\\Users\\SKaul7\\AppData\\Local\\Continuum\\anaconda3\\lib\\site-packages\\ipykernel\\parentpoller.py:116: UserWarning: Parent poll failed.  If the frontend dies,\n",
      "                the kernel may be left running.  Please let us know\n",
      "                about your system (bitness, Python, etc.) at\n",
      "                ipython-dev@scipy.org\n",
      "  ipython-dev@scipy.org\"\"\")\n"
     ]
    }
   ],
   "source": [
    "import pandas as pd\n",
    "import numpy as np\n",
    "from dask import dataframe as dd\n",
    "import time\n",
    "import os\n",
    "from dask.distributed import Client"
   ]
  },
  {
   "cell_type": "markdown",
   "metadata": {
    "colab_type": "text",
    "id": "88-jow828zl0"
   },
   "source": [
    "## Prepare a huge-sized dataframe"
   ]
  },
  {
   "cell_type": "code",
   "execution_count": 5,
   "metadata": {
    "colab": {},
    "colab_type": "code",
    "id": "2688gGWjTR6a"
   },
   "outputs": [],
   "source": [
    "df = pd.DataFrame(data=np.random.randint(99999, 99999999, size=(10000000,14)),columns=['C1','C2','C3','C4','C5','C6','C7','C8','C9','C10','C11','C12','C13','C14'])"
   ]
  },
  {
   "cell_type": "markdown",
   "metadata": {
    "colab_type": "text",
    "id": "o5S51eBQ-aam"
   },
   "source": [
    "#### Add a string column to dataframe with a random string"
   ]
  },
  {
   "cell_type": "code",
   "execution_count": 6,
   "metadata": {},
   "outputs": [],
   "source": [
    "df['C15'] = pd.util.testing.rands_array(5, 10000000)"
   ]
  },
  {
   "cell_type": "markdown",
   "metadata": {
    "colab_type": "text",
    "id": "zQc6PRMf-i9M"
   },
   "source": [
    "#### Data Analysis"
   ]
  },
  {
   "cell_type": "code",
   "execution_count": 7,
   "metadata": {
    "colab": {
     "base_uri": "https://localhost:8080/",
     "height": 34
    },
    "colab_type": "code",
    "id": "pXZBWUq2VWXe",
    "outputId": "4123af1e-3fee-45df-ab8a-f727e25a12ff"
   },
   "outputs": [
    {
     "data": {
      "text/plain": [
       "(10000000, 15)"
      ]
     },
     "execution_count": 7,
     "metadata": {},
     "output_type": "execute_result"
    }
   ],
   "source": [
    "df.shape"
   ]
  },
  {
   "cell_type": "code",
   "execution_count": 8,
   "metadata": {
    "colab": {
     "base_uri": "https://localhost:8080/",
     "height": 204
    },
    "colab_type": "code",
    "id": "sqiSZomSVck0",
    "outputId": "e822e9b8-8f9c-41dc-ab69-356e5d74ba21"
   },
   "outputs": [
    {
     "data": {
      "text/html": [
       "<div>\n",
       "<style scoped>\n",
       "    .dataframe tbody tr th:only-of-type {\n",
       "        vertical-align: middle;\n",
       "    }\n",
       "\n",
       "    .dataframe tbody tr th {\n",
       "        vertical-align: top;\n",
       "    }\n",
       "\n",
       "    .dataframe thead th {\n",
       "        text-align: right;\n",
       "    }\n",
       "</style>\n",
       "<table border=\"1\" class=\"dataframe\">\n",
       "  <thead>\n",
       "    <tr style=\"text-align: right;\">\n",
       "      <th></th>\n",
       "      <th>C1</th>\n",
       "      <th>C2</th>\n",
       "      <th>C3</th>\n",
       "      <th>C4</th>\n",
       "      <th>C5</th>\n",
       "      <th>C6</th>\n",
       "      <th>C7</th>\n",
       "      <th>C8</th>\n",
       "      <th>C9</th>\n",
       "      <th>C10</th>\n",
       "      <th>C11</th>\n",
       "      <th>C12</th>\n",
       "      <th>C13</th>\n",
       "      <th>C14</th>\n",
       "      <th>C15</th>\n",
       "    </tr>\n",
       "  </thead>\n",
       "  <tbody>\n",
       "    <tr>\n",
       "      <th>0</th>\n",
       "      <td>52254190</td>\n",
       "      <td>36823947</td>\n",
       "      <td>66293076</td>\n",
       "      <td>60079342</td>\n",
       "      <td>79253435</td>\n",
       "      <td>68729334</td>\n",
       "      <td>92031556</td>\n",
       "      <td>67294877</td>\n",
       "      <td>74581862</td>\n",
       "      <td>14922253</td>\n",
       "      <td>26790682</td>\n",
       "      <td>57105776</td>\n",
       "      <td>16926222</td>\n",
       "      <td>32063311</td>\n",
       "      <td>P4VVc</td>\n",
       "    </tr>\n",
       "    <tr>\n",
       "      <th>1</th>\n",
       "      <td>49911927</td>\n",
       "      <td>84844430</td>\n",
       "      <td>5308032</td>\n",
       "      <td>59251686</td>\n",
       "      <td>50766178</td>\n",
       "      <td>39805376</td>\n",
       "      <td>14923736</td>\n",
       "      <td>80428468</td>\n",
       "      <td>63539315</td>\n",
       "      <td>6949030</td>\n",
       "      <td>92130220</td>\n",
       "      <td>37094061</td>\n",
       "      <td>29512227</td>\n",
       "      <td>28492994</td>\n",
       "      <td>ub4dX</td>\n",
       "    </tr>\n",
       "    <tr>\n",
       "      <th>2</th>\n",
       "      <td>42268205</td>\n",
       "      <td>24499377</td>\n",
       "      <td>98750370</td>\n",
       "      <td>36486031</td>\n",
       "      <td>61128869</td>\n",
       "      <td>63010166</td>\n",
       "      <td>27666012</td>\n",
       "      <td>8269366</td>\n",
       "      <td>14794948</td>\n",
       "      <td>16546148</td>\n",
       "      <td>43646474</td>\n",
       "      <td>78714163</td>\n",
       "      <td>24961500</td>\n",
       "      <td>10464317</td>\n",
       "      <td>Sha70</td>\n",
       "    </tr>\n",
       "    <tr>\n",
       "      <th>3</th>\n",
       "      <td>44611348</td>\n",
       "      <td>64750253</td>\n",
       "      <td>42787155</td>\n",
       "      <td>23769160</td>\n",
       "      <td>54813654</td>\n",
       "      <td>46183635</td>\n",
       "      <td>54433623</td>\n",
       "      <td>12208968</td>\n",
       "      <td>54123662</td>\n",
       "      <td>54669284</td>\n",
       "      <td>97926233</td>\n",
       "      <td>29959834</td>\n",
       "      <td>87839414</td>\n",
       "      <td>3913639</td>\n",
       "      <td>oCfLW</td>\n",
       "    </tr>\n",
       "    <tr>\n",
       "      <th>4</th>\n",
       "      <td>68515682</td>\n",
       "      <td>18827316</td>\n",
       "      <td>97732951</td>\n",
       "      <td>57636534</td>\n",
       "      <td>86741144</td>\n",
       "      <td>69492670</td>\n",
       "      <td>3046228</td>\n",
       "      <td>6164679</td>\n",
       "      <td>82089039</td>\n",
       "      <td>3507701</td>\n",
       "      <td>80976752</td>\n",
       "      <td>76799542</td>\n",
       "      <td>3139903</td>\n",
       "      <td>10830273</td>\n",
       "      <td>mObAD</td>\n",
       "    </tr>\n",
       "  </tbody>\n",
       "</table>\n",
       "</div>"
      ],
      "text/plain": [
       "         C1        C2        C3        C4        C5        C6        C7  \\\n",
       "0  52254190  36823947  66293076  60079342  79253435  68729334  92031556   \n",
       "1  49911927  84844430   5308032  59251686  50766178  39805376  14923736   \n",
       "2  42268205  24499377  98750370  36486031  61128869  63010166  27666012   \n",
       "3  44611348  64750253  42787155  23769160  54813654  46183635  54433623   \n",
       "4  68515682  18827316  97732951  57636534  86741144  69492670   3046228   \n",
       "\n",
       "         C8        C9       C10       C11       C12       C13       C14    C15  \n",
       "0  67294877  74581862  14922253  26790682  57105776  16926222  32063311  P4VVc  \n",
       "1  80428468  63539315   6949030  92130220  37094061  29512227  28492994  ub4dX  \n",
       "2   8269366  14794948  16546148  43646474  78714163  24961500  10464317  Sha70  \n",
       "3  12208968  54123662  54669284  97926233  29959834  87839414   3913639  oCfLW  \n",
       "4   6164679  82089039   3507701  80976752  76799542   3139903  10830273  mObAD  "
      ]
     },
     "execution_count": 8,
     "metadata": {},
     "output_type": "execute_result"
    }
   ],
   "source": [
    "df.head()"
   ]
  },
  {
   "cell_type": "code",
   "execution_count": 9,
   "metadata": {
    "colab": {},
    "colab_type": "code",
    "id": "PMTp-oP9VpX7"
   },
   "outputs": [],
   "source": [
    "# Store data in CSV format\n",
    "df.to_csv(\"huge_data.csv\")"
   ]
  },
  {
   "cell_type": "markdown",
   "metadata": {
    "colab_type": "text",
    "id": "lmQr5fhVA3yn"
   },
   "source": [
    "## How quick your import option is?\n",
    "- pandas.read_csv()\n",
    "- pandas.read_csv(chunksize)\n",
    "- dask.dataframe.read_csv()"
   ]
  },
  {
   "cell_type": "code",
   "execution_count": 16,
   "metadata": {
    "colab": {
     "base_uri": "https://localhost:8080/",
     "height": 34
    },
    "colab_type": "code",
    "id": "PpV6aRNgv4fd",
    "outputId": "bc25eb6e-c885-4a31-a730-2224f6b87a91"
   },
   "outputs": [
    {
     "data": {
      "text/plain": [
       "0"
      ]
     },
     "execution_count": 16,
     "metadata": {},
     "output_type": "execute_result"
    }
   ],
   "source": [
    "# Just in case, to clean up RAM\n",
    "import gc\n",
    "gc.collect()"
   ]
  },
  {
   "cell_type": "markdown",
   "metadata": {},
   "source": [
    "#### Size of data to be imported"
   ]
  },
  {
   "cell_type": "code",
   "execution_count": 14,
   "metadata": {},
   "outputs": [
    {
     "name": "stdout",
     "output_type": "stream",
     "text": [
      "1.298035160638392 GB\n"
     ]
    }
   ],
   "source": [
    "print(os.path.getsize('huge_data.csv')/1024/1024/1024 , \"GB\")"
   ]
  },
  {
   "cell_type": "markdown",
   "metadata": {
    "colab_type": "text",
    "id": "s9fKmJLDF-ku"
   },
   "source": [
    "##### Pandas.read_csv()"
   ]
  },
  {
   "cell_type": "code",
   "execution_count": 10,
   "metadata": {
    "colab": {
     "base_uri": "https://localhost:8080/",
     "height": 34
    },
    "colab_type": "code",
    "id": "51VsaJgSGOtB",
    "outputId": "bb1b6bdc-99bb-4dda-e3a8-6312132ac2fb"
   },
   "outputs": [
    {
     "name": "stdout",
     "output_type": "stream",
     "text": [
      "Read csv without chunks:  26.88872528076172 sec\n"
     ]
    }
   ],
   "source": [
    "start = time.time()\n",
    "df = pd.read_csv('huge_data.csv')\n",
    "end = time.time()\n",
    "print(\"Read csv without chunks: \",(end-start),\"sec\")"
   ]
  },
  {
   "cell_type": "code",
   "execution_count": 11,
   "metadata": {},
   "outputs": [
    {
     "name": "stdout",
     "output_type": "stream",
     "text": [
      "Wall time: 41 ms\n"
     ]
    },
    {
     "data": {
      "text/plain": [
       "50041578.5786115"
      ]
     },
     "execution_count": 11,
     "metadata": {},
     "output_type": "execute_result"
    }
   ],
   "source": [
    "%%time\n",
    "df.iloc[:,1].mean()"
   ]
  },
  {
   "cell_type": "markdown",
   "metadata": {
    "colab_type": "text",
    "id": "fjBPkWW8GYDO"
   },
   "source": [
    "##### pandas.read_csv(chunksize)"
   ]
  },
  {
   "cell_type": "code",
   "execution_count": 2,
   "metadata": {
    "colab": {
     "base_uri": "https://localhost:8080/",
     "height": 34
    },
    "colab_type": "code",
    "id": "LfdeI2a-GFuT",
    "outputId": "c95ec43e-d0f4-4d30-c8ce-80f81d9f316b"
   },
   "outputs": [
    {
     "name": "stdout",
     "output_type": "stream",
     "text": [
      "Read csv with chunks:  0.013001203536987305 sec\n"
     ]
    }
   ],
   "source": [
    "start = time.time()\n",
    "chunk = pd.read_csv('huge_data.csv',chunksize=1000000)\n",
    "end = time.time()\n",
    "print(\"Read csv with chunks: \",(end-start),\"sec\")\n",
    "pd_df = pd.concat(chunk)"
   ]
  },
  {
   "cell_type": "code",
   "execution_count": 3,
   "metadata": {},
   "outputs": [
    {
     "data": {
      "text/plain": [
       "pandas.io.parsers.TextFileReader"
      ]
     },
     "execution_count": 3,
     "metadata": {},
     "output_type": "execute_result"
    }
   ],
   "source": [
    "type(chunk)"
   ]
  },
  {
   "cell_type": "code",
   "execution_count": 4,
   "metadata": {},
   "outputs": [
    {
     "data": {
      "text/plain": [
       "pandas.core.frame.DataFrame"
      ]
     },
     "execution_count": 4,
     "metadata": {},
     "output_type": "execute_result"
    }
   ],
   "source": [
    "type(pd_df)"
   ]
  },
  {
   "cell_type": "code",
   "execution_count": 6,
   "metadata": {
    "scrolled": true
   },
   "outputs": [
    {
     "name": "stdout",
     "output_type": "stream",
     "text": [
      "Wall time: 16 ms\n"
     ]
    },
    {
     "data": {
      "text/plain": [
       "50041578.5786115"
      ]
     },
     "execution_count": 6,
     "metadata": {},
     "output_type": "execute_result"
    }
   ],
   "source": [
    "%%time\n",
    "pd_df.iloc[:,1].mean()"
   ]
  },
  {
   "cell_type": "markdown",
   "metadata": {
    "colab_type": "text",
    "id": "Bxlnmk48GgiB"
   },
   "source": [
    "##### dask.dataframe.read_csv()"
   ]
  },
  {
   "cell_type": "markdown",
   "metadata": {},
   "source": [
    "#### Start Dask Client for Dashboard\n",
    "It will provide a dashboard which is useful to gain insight on the computation."
   ]
  },
  {
   "cell_type": "code",
   "execution_count": 2,
   "metadata": {},
   "outputs": [
    {
     "data": {
      "text/html": [
       "<table style=\"border: 2px solid white;\">\n",
       "<tr>\n",
       "<td style=\"vertical-align: top; border: 0px solid white\">\n",
       "<h3>Client</h3>\n",
       "<ul>\n",
       "  <li><b>Scheduler: </b>inproc://10.220.104.115/15460/1\n",
       "  <li><b>Dashboard: </b><a href='http://localhost:8787/status' target='_blank'>http://localhost:8787/status</a>\n",
       "</ul>\n",
       "</td>\n",
       "<td style=\"vertical-align: top; border: 0px solid white\">\n",
       "<h3>Cluster</h3>\n",
       "<ul>\n",
       "  <li><b>Workers: </b>1</li>\n",
       "  <li><b>Cores: </b>2</li>\n",
       "  <li><b>Memory: </b>8.59 GB</li>\n",
       "</ul>\n",
       "</td>\n",
       "</tr>\n",
       "</table>"
      ],
      "text/plain": [
       "<Client: scheduler='inproc://10.220.104.115/15460/1' processes=1 cores=2>"
      ]
     },
     "execution_count": 2,
     "metadata": {},
     "output_type": "execute_result"
    }
   ],
   "source": [
    "client = Client(processes=False)\n",
    "client"
   ]
  },
  {
   "cell_type": "code",
   "execution_count": 2,
   "metadata": {
    "colab": {
     "base_uri": "https://localhost:8080/",
     "height": 34
    },
    "colab_type": "code",
    "id": "OkDqkN01Gkzp",
    "outputId": "3566fc36-f52d-42dd-f1c3-3648a492f53d"
   },
   "outputs": [
    {
     "name": "stdout",
     "output_type": "stream",
     "text": [
      "Read csv with dask:  0.052001237869262695 sec\n"
     ]
    }
   ],
   "source": [
    "start = time.time()\n",
    "dask_df = dd.read_csv('huge_data.csv')\n",
    "end = time.time()\n",
    "print(\"Read csv with dask: \",(end-start),\"sec\")"
   ]
  },
  {
   "cell_type": "code",
   "execution_count": 9,
   "metadata": {
    "scrolled": true
   },
   "outputs": [
    {
     "name": "stdout",
     "output_type": "stream",
     "text": [
      "Wall time: 19.9 s\n"
     ]
    },
    {
     "data": {
      "text/plain": [
       "50041578.5786115"
      ]
     },
     "execution_count": 9,
     "metadata": {},
     "output_type": "execute_result"
    }
   ],
   "source": [
    "%%time\n",
    "dask_df.iloc[:,1].mean().compute()"
   ]
  },
  {
   "cell_type": "markdown",
   "metadata": {
    "colab_type": "text",
    "id": "ydvVlqVXHMFK"
   },
   "source": [
    "## Conclusion\n",
    "- Dask performed much faster while reading large CSV prepared.\n",
    "- Even pandas can perform better while loading up in chunks via chunksize argument."
   ]
  }
 ],
 "metadata": {
  "colab": {
   "collapsed_sections": [],
   "name": "efficient_read_csv.ipynb",
   "provenance": []
  },
  "kernelspec": {
   "display_name": "Python 3",
   "language": "python",
   "name": "python3"
  },
  "language_info": {
   "codemirror_mode": {
    "name": "ipython",
    "version": 3
   },
   "file_extension": ".py",
   "mimetype": "text/x-python",
   "name": "python",
   "nbconvert_exporter": "python",
   "pygments_lexer": "ipython3",
   "version": "3.7.0"
  }
 },
 "nbformat": 4,
 "nbformat_minor": 1
}
